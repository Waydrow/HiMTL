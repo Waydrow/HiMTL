{
 "cells": [
  {
   "cell_type": "code",
   "execution_count": 1,
   "metadata": {},
   "outputs": [],
   "source": [
    "import os\n",
    "os.chdir('/Users/wozhengzw/Documents/data/HiMTL/code')\n",
    "import numpy as np\n",
    "import pandas as pd\n",
    "# from deepctr.feature_column import SparseFeat, DenseFeat, get_feature_names\n",
    "from sklearn.preprocessing import LabelEncoder, StandardScaler, MinMaxScaler\n",
    "from tensorflow.python.keras.preprocessing.sequence import pad_sequences\n",
    "from tqdm import tqdm\n",
    "# from matplotlib import pyplot as plt\n",
    "\n",
    "FRAC = 0.25"
   ]
  },
  {
   "cell_type": "code",
   "execution_count": null,
   "metadata": {},
   "outputs": [],
   "source": []
  },
  {
   "cell_type": "code",
   "execution_count": 6,
   "metadata": {},
   "outputs": [
    {
     "name": "stdout",
     "output_type": "stream",
     "text": [
      "Python 3.5.6 :: Anaconda, Inc.\r\n"
     ]
    }
   ],
   "source": [
    "!python3 -V"
   ]
  },
  {
   "cell_type": "code",
   "execution_count": 10,
   "metadata": {},
   "outputs": [],
   "source": [
    "data = pd.read_pickle('../sampled_data/data_0.25.pkl')\n",
    "sparse_features = ['userid', 'adgroup_id', 'pid', 'cms_segid', 'cms_group_id', 'final_gender_code', 'age_level',\n",
    "                       'pvalue_level', 'shopping_level', 'occupation', 'new_user_class_level', 'campaign_id',\n",
    "                       'customer', 'cate_id', 'brand'] # 15 sparse features"
   ]
  },
  {
   "cell_type": "code",
   "execution_count": null,
   "metadata": {},
   "outputs": [],
   "source": [
    "# data1 = pd.read_pickle('../sampled_data/data_mtl_v4_0.25.pkl')"
   ]
  },
  {
   "cell_type": "code",
   "execution_count": null,
   "metadata": {},
   "outputs": [],
   "source": []
  },
  {
   "cell_type": "code",
   "execution_count": 5,
   "metadata": {},
   "outputs": [],
   "source": [
    "label_cate = np.zeros([data.shape[0], 1], dtype=np.int)\n",
    "label_customer = np.zeros([data.shape[0], 1], dtype=np.int)\n",
    "data['label_cate']=label_cate\n",
    "data['label_customer']=label_customer"
   ]
  },
  {
   "cell_type": "code",
   "execution_count": 8,
   "metadata": {},
   "outputs": [
    {
     "name": "stdout",
     "output_type": "stream",
     "text": [
      "Please check the latest version manually on https://pypi.org/project/deepctr/#history\n"
     ]
    },
    {
     "name": "stderr",
     "output_type": "stream",
     "text": [
      "100%|██████████| 1550732/1550732 [28:22<00:00, 910.93it/s]\n",
      "100%|██████████| 4495427/4495427 [1:22:23<00:00, 909.41it/s]\n"
     ]
    }
   ],
   "source": [
    "cate_dic, customer_dic = {}, {}\n",
    "for name, group in tqdm(data.groupby(['userid', 'cate_id'])):\n",
    "    clk_n = group[group.clk==1].shape[0]\n",
    "    key_name = str(name[0]) + '-' + str(name[1])\n",
    "    cate_dic[key_name] = clk_n\n",
    "    \n",
    "for name, group in tqdm(data.groupby(['userid', 'customer'])):\n",
    "    clk_n = group[group.clk==1].shape[0]\n",
    "    key_name = str(name[0]) + '-' + str(name[1])\n",
    "    customer_dic[key_name] = clk_n"
   ]
  },
  {
   "cell_type": "code",
   "execution_count": 24,
   "metadata": {},
   "outputs": [],
   "source": [
    "pd.to_pickle(cate_dic, '../sampled_data/cate_dic.pkl')\n",
    "pd.to_pickle(customer_dic, '../sampled_data/customer_dic.pkl')"
   ]
  },
  {
   "cell_type": "code",
   "execution_count": 39,
   "metadata": {},
   "outputs": [
    {
     "data": {
      "text/plain": [
       "4495427"
      ]
     },
     "execution_count": 39,
     "metadata": {},
     "output_type": "execute_result"
    }
   ],
   "source": [
    "len(customer_dic.values())"
   ]
  },
  {
   "cell_type": "code",
   "execution_count": 6,
   "metadata": {},
   "outputs": [],
   "source": [
    "cate_dic = pd.read_pickle('../sampled_data/cate_dic.pkl')\n",
    "customer_dic = pd.read_pickle('../sampled_data/customer_dic.pkl')"
   ]
  },
  {
   "cell_type": "code",
   "execution_count": 7,
   "metadata": {},
   "outputs": [
    {
     "name": "stdout",
     "output_type": "stream",
     "text": [
      "Please check the latest version manually on https://pypi.org/project/deepctr/#history\n"
     ]
    }
   ],
   "source": [
    "def func(x, dic):\n",
    "    key_name = str(x[0])+'-'+str(x[1])\n",
    "    if x[2] == 1:\n",
    "        return dic[key_name] - 1\n",
    "    else:\n",
    "        return dic[key_name]\n",
    "\n",
    "data['label_cate'] = data[['userid', 'cate_id', 'clk']].apply(lambda x: func(x, cate_dic), axis=1)\n",
    "data['label_customer'] = data[['userid', 'customer', 'clk']].apply(lambda x: func(x, customer_dic), axis=1)"
   ]
  },
  {
   "cell_type": "code",
   "execution_count": 9,
   "metadata": {},
   "outputs": [],
   "source": [
    "pd.to_pickle(data, '../sampled_data/data_mtl_v3_' + str(FRAC) + '.pkl')"
   ]
  },
  {
   "cell_type": "code",
   "execution_count": 41,
   "metadata": {},
   "outputs": [
    {
     "data": {
      "text/html": [
       "<div>\n",
       "<style scoped>\n",
       "    .dataframe tbody tr th:only-of-type {\n",
       "        vertical-align: middle;\n",
       "    }\n",
       "\n",
       "    .dataframe tbody tr th {\n",
       "        vertical-align: top;\n",
       "    }\n",
       "\n",
       "    .dataframe thead th {\n",
       "        text-align: right;\n",
       "    }\n",
       "</style>\n",
       "<table border=\"1\" class=\"dataframe\">\n",
       "  <thead>\n",
       "    <tr style=\"text-align: right;\">\n",
       "      <th></th>\n",
       "      <th>userid</th>\n",
       "      <th>time_stamp</th>\n",
       "      <th>adgroup_id</th>\n",
       "      <th>pid</th>\n",
       "      <th>nonclk</th>\n",
       "      <th>clk</th>\n",
       "      <th>cms_segid</th>\n",
       "      <th>cms_group_id</th>\n",
       "      <th>final_gender_code</th>\n",
       "      <th>age_level</th>\n",
       "      <th>...</th>\n",
       "      <th>occupation</th>\n",
       "      <th>new_user_class_level</th>\n",
       "      <th>cate_id</th>\n",
       "      <th>campaign_id</th>\n",
       "      <th>customer</th>\n",
       "      <th>brand</th>\n",
       "      <th>price</th>\n",
       "      <th>label_cate</th>\n",
       "      <th>label_customer</th>\n",
       "      <th>counter</th>\n",
       "    </tr>\n",
       "  </thead>\n",
       "  <tbody>\n",
       "    <tr>\n",
       "      <th>0</th>\n",
       "      <td>171978</td>\n",
       "      <td>1494115387</td>\n",
       "      <td>3</td>\n",
       "      <td>0</td>\n",
       "      <td>1</td>\n",
       "      <td>0</td>\n",
       "      <td>0</td>\n",
       "      <td>4</td>\n",
       "      <td>1</td>\n",
       "      <td>4</td>\n",
       "      <td>...</td>\n",
       "      <td>0</td>\n",
       "      <td>1</td>\n",
       "      <td>1740</td>\n",
       "      <td>281917</td>\n",
       "      <td>19321</td>\n",
       "      <td>21329</td>\n",
       "      <td>176.0</td>\n",
       "      <td>0</td>\n",
       "      <td>0</td>\n",
       "      <td>0</td>\n",
       "    </tr>\n",
       "    <tr>\n",
       "      <th>1</th>\n",
       "      <td>58245</td>\n",
       "      <td>1494281673</td>\n",
       "      <td>4</td>\n",
       "      <td>0</td>\n",
       "      <td>1</td>\n",
       "      <td>0</td>\n",
       "      <td>20</td>\n",
       "      <td>3</td>\n",
       "      <td>1</td>\n",
       "      <td>3</td>\n",
       "      <td>...</td>\n",
       "      <td>0</td>\n",
       "      <td>3</td>\n",
       "      <td>3088</td>\n",
       "      <td>97655</td>\n",
       "      <td>4868</td>\n",
       "      <td>17782</td>\n",
       "      <td>289.0</td>\n",
       "      <td>0</td>\n",
       "      <td>0</td>\n",
       "      <td>1</td>\n",
       "    </tr>\n",
       "    <tr>\n",
       "      <th>2</th>\n",
       "      <td>130268</td>\n",
       "      <td>1494545239</td>\n",
       "      <td>4</td>\n",
       "      <td>0</td>\n",
       "      <td>1</td>\n",
       "      <td>0</td>\n",
       "      <td>0</td>\n",
       "      <td>3</td>\n",
       "      <td>1</td>\n",
       "      <td>3</td>\n",
       "      <td>...</td>\n",
       "      <td>0</td>\n",
       "      <td>0</td>\n",
       "      <td>3088</td>\n",
       "      <td>97655</td>\n",
       "      <td>4868</td>\n",
       "      <td>17782</td>\n",
       "      <td>289.0</td>\n",
       "      <td>0</td>\n",
       "      <td>0</td>\n",
       "      <td>2</td>\n",
       "    </tr>\n",
       "    <tr>\n",
       "      <th>3</th>\n",
       "      <td>89115</td>\n",
       "      <td>1494475741</td>\n",
       "      <td>4</td>\n",
       "      <td>0</td>\n",
       "      <td>1</td>\n",
       "      <td>0</td>\n",
       "      <td>20</td>\n",
       "      <td>3</td>\n",
       "      <td>1</td>\n",
       "      <td>3</td>\n",
       "      <td>...</td>\n",
       "      <td>0</td>\n",
       "      <td>4</td>\n",
       "      <td>3088</td>\n",
       "      <td>97655</td>\n",
       "      <td>4868</td>\n",
       "      <td>17782</td>\n",
       "      <td>289.0</td>\n",
       "      <td>0</td>\n",
       "      <td>0</td>\n",
       "      <td>3</td>\n",
       "    </tr>\n",
       "    <tr>\n",
       "      <th>4</th>\n",
       "      <td>58245</td>\n",
       "      <td>1494540717</td>\n",
       "      <td>4</td>\n",
       "      <td>0</td>\n",
       "      <td>1</td>\n",
       "      <td>0</td>\n",
       "      <td>20</td>\n",
       "      <td>3</td>\n",
       "      <td>1</td>\n",
       "      <td>3</td>\n",
       "      <td>...</td>\n",
       "      <td>0</td>\n",
       "      <td>3</td>\n",
       "      <td>3088</td>\n",
       "      <td>97655</td>\n",
       "      <td>4868</td>\n",
       "      <td>17782</td>\n",
       "      <td>289.0</td>\n",
       "      <td>0</td>\n",
       "      <td>0</td>\n",
       "      <td>4</td>\n",
       "    </tr>\n",
       "  </tbody>\n",
       "</table>\n",
       "<p>5 rows × 22 columns</p>\n",
       "</div>"
      ],
      "text/plain": [
       "   userid  time_stamp  adgroup_id  pid  nonclk  clk  cms_segid  cms_group_id  \\\n",
       "0  171978  1494115387           3    0       1    0          0             4   \n",
       "1   58245  1494281673           4    0       1    0         20             3   \n",
       "2  130268  1494545239           4    0       1    0          0             3   \n",
       "3   89115  1494475741           4    0       1    0         20             3   \n",
       "4   58245  1494540717           4    0       1    0         20             3   \n",
       "\n",
       "   final_gender_code  age_level   ...     occupation  new_user_class_level  \\\n",
       "0                  1          4   ...              0                     1   \n",
       "1                  1          3   ...              0                     3   \n",
       "2                  1          3   ...              0                     0   \n",
       "3                  1          3   ...              0                     4   \n",
       "4                  1          3   ...              0                     3   \n",
       "\n",
       "   cate_id  campaign_id  customer  brand  price  label_cate  label_customer  \\\n",
       "0     1740       281917     19321  21329  176.0           0               0   \n",
       "1     3088        97655      4868  17782  289.0           0               0   \n",
       "2     3088        97655      4868  17782  289.0           0               0   \n",
       "3     3088        97655      4868  17782  289.0           0               0   \n",
       "4     3088        97655      4868  17782  289.0           0               0   \n",
       "\n",
       "   counter  \n",
       "0        0  \n",
       "1        1  \n",
       "2        2  \n",
       "3        3  \n",
       "4        4  \n",
       "\n",
       "[5 rows x 22 columns]"
      ]
     },
     "execution_count": 41,
     "metadata": {},
     "output_type": "execute_result"
    }
   ],
   "source": [
    "data.head()"
   ]
  },
  {
   "cell_type": "code",
   "execution_count": 15,
   "metadata": {},
   "outputs": [],
   "source": [
    "data = pd.read_pickle('../sampled_data/data_0.25.pkl')"
   ]
  },
  {
   "cell_type": "code",
   "execution_count": 28,
   "metadata": {},
   "outputs": [
    {
     "data": {
      "text/html": [
       "<div>\n",
       "<style>\n",
       "    .dataframe thead tr:only-child th {\n",
       "        text-align: right;\n",
       "    }\n",
       "\n",
       "    .dataframe thead th {\n",
       "        text-align: left;\n",
       "    }\n",
       "\n",
       "    .dataframe tbody tr th {\n",
       "        vertical-align: top;\n",
       "    }\n",
       "</style>\n",
       "<table border=\"1\" class=\"dataframe\">\n",
       "  <thead>\n",
       "    <tr style=\"text-align: right;\">\n",
       "      <th></th>\n",
       "      <th>userid</th>\n",
       "      <th>time_stamp</th>\n",
       "      <th>adgroup_id</th>\n",
       "      <th>pid</th>\n",
       "      <th>nonclk</th>\n",
       "      <th>clk</th>\n",
       "      <th>cms_segid</th>\n",
       "      <th>cms_group_id</th>\n",
       "      <th>final_gender_code</th>\n",
       "      <th>age_level</th>\n",
       "      <th>...</th>\n",
       "      <th>occupation</th>\n",
       "      <th>new_user_class_level</th>\n",
       "      <th>cate_id</th>\n",
       "      <th>campaign_id</th>\n",
       "      <th>customer</th>\n",
       "      <th>brand</th>\n",
       "      <th>price</th>\n",
       "      <th>counter</th>\n",
       "      <th>label_cate</th>\n",
       "      <th>label_customer</th>\n",
       "    </tr>\n",
       "  </thead>\n",
       "  <tbody>\n",
       "    <tr>\n",
       "      <th>0</th>\n",
       "      <td>171978</td>\n",
       "      <td>1494115387</td>\n",
       "      <td>3</td>\n",
       "      <td>0</td>\n",
       "      <td>1</td>\n",
       "      <td>0</td>\n",
       "      <td>0</td>\n",
       "      <td>4</td>\n",
       "      <td>1</td>\n",
       "      <td>4</td>\n",
       "      <td>...</td>\n",
       "      <td>0</td>\n",
       "      <td>1</td>\n",
       "      <td>1740</td>\n",
       "      <td>281917</td>\n",
       "      <td>19321</td>\n",
       "      <td>21329</td>\n",
       "      <td>176.0</td>\n",
       "      <td>0</td>\n",
       "      <td>0</td>\n",
       "      <td>0</td>\n",
       "    </tr>\n",
       "    <tr>\n",
       "      <th>1</th>\n",
       "      <td>58245</td>\n",
       "      <td>1494281673</td>\n",
       "      <td>4</td>\n",
       "      <td>0</td>\n",
       "      <td>1</td>\n",
       "      <td>0</td>\n",
       "      <td>20</td>\n",
       "      <td>3</td>\n",
       "      <td>1</td>\n",
       "      <td>3</td>\n",
       "      <td>...</td>\n",
       "      <td>0</td>\n",
       "      <td>3</td>\n",
       "      <td>3088</td>\n",
       "      <td>97655</td>\n",
       "      <td>4868</td>\n",
       "      <td>17782</td>\n",
       "      <td>289.0</td>\n",
       "      <td>1</td>\n",
       "      <td>3</td>\n",
       "      <td>0</td>\n",
       "    </tr>\n",
       "    <tr>\n",
       "      <th>2</th>\n",
       "      <td>130268</td>\n",
       "      <td>1494545239</td>\n",
       "      <td>4</td>\n",
       "      <td>0</td>\n",
       "      <td>1</td>\n",
       "      <td>0</td>\n",
       "      <td>0</td>\n",
       "      <td>3</td>\n",
       "      <td>1</td>\n",
       "      <td>3</td>\n",
       "      <td>...</td>\n",
       "      <td>0</td>\n",
       "      <td>0</td>\n",
       "      <td>3088</td>\n",
       "      <td>97655</td>\n",
       "      <td>4868</td>\n",
       "      <td>17782</td>\n",
       "      <td>289.0</td>\n",
       "      <td>2</td>\n",
       "      <td>5</td>\n",
       "      <td>0</td>\n",
       "    </tr>\n",
       "    <tr>\n",
       "      <th>3</th>\n",
       "      <td>89115</td>\n",
       "      <td>1494475741</td>\n",
       "      <td>4</td>\n",
       "      <td>0</td>\n",
       "      <td>1</td>\n",
       "      <td>0</td>\n",
       "      <td>20</td>\n",
       "      <td>3</td>\n",
       "      <td>1</td>\n",
       "      <td>3</td>\n",
       "      <td>...</td>\n",
       "      <td>0</td>\n",
       "      <td>4</td>\n",
       "      <td>3088</td>\n",
       "      <td>97655</td>\n",
       "      <td>4868</td>\n",
       "      <td>17782</td>\n",
       "      <td>289.0</td>\n",
       "      <td>3</td>\n",
       "      <td>0</td>\n",
       "      <td>0</td>\n",
       "    </tr>\n",
       "    <tr>\n",
       "      <th>4</th>\n",
       "      <td>58245</td>\n",
       "      <td>1494540717</td>\n",
       "      <td>4</td>\n",
       "      <td>0</td>\n",
       "      <td>1</td>\n",
       "      <td>0</td>\n",
       "      <td>20</td>\n",
       "      <td>3</td>\n",
       "      <td>1</td>\n",
       "      <td>3</td>\n",
       "      <td>...</td>\n",
       "      <td>0</td>\n",
       "      <td>3</td>\n",
       "      <td>3088</td>\n",
       "      <td>97655</td>\n",
       "      <td>4868</td>\n",
       "      <td>17782</td>\n",
       "      <td>289.0</td>\n",
       "      <td>4</td>\n",
       "      <td>4</td>\n",
       "      <td>0</td>\n",
       "    </tr>\n",
       "  </tbody>\n",
       "</table>\n",
       "<p>5 rows × 22 columns</p>\n",
       "</div>"
      ],
      "text/plain": [
       "   userid  time_stamp  adgroup_id  pid  nonclk  clk  cms_segid  cms_group_id  \\\n",
       "0  171978  1494115387           3    0       1    0          0             4   \n",
       "1   58245  1494281673           4    0       1    0         20             3   \n",
       "2  130268  1494545239           4    0       1    0          0             3   \n",
       "3   89115  1494475741           4    0       1    0         20             3   \n",
       "4   58245  1494540717           4    0       1    0         20             3   \n",
       "\n",
       "   final_gender_code  age_level      ...        occupation  \\\n",
       "0                  1          4      ...                 0   \n",
       "1                  1          3      ...                 0   \n",
       "2                  1          3      ...                 0   \n",
       "3                  1          3      ...                 0   \n",
       "4                  1          3      ...                 0   \n",
       "\n",
       "   new_user_class_level  cate_id  campaign_id  customer  brand  price  \\\n",
       "0                     1     1740       281917     19321  21329  176.0   \n",
       "1                     3     3088        97655      4868  17782  289.0   \n",
       "2                     0     3088        97655      4868  17782  289.0   \n",
       "3                     4     3088        97655      4868  17782  289.0   \n",
       "4                     3     3088        97655      4868  17782  289.0   \n",
       "\n",
       "   counter  label_cate label_customer  \n",
       "0        0           0              0  \n",
       "1        1           3              0  \n",
       "2        2           5              0  \n",
       "3        3           0              0  \n",
       "4        4           4              0  \n",
       "\n",
       "[5 rows x 22 columns]"
      ]
     },
     "execution_count": 28,
     "metadata": {},
     "output_type": "execute_result"
    }
   ],
   "source": [
    "data.head()"
   ]
  },
  {
   "cell_type": "code",
   "execution_count": 17,
   "metadata": {},
   "outputs": [],
   "source": [
    "data['counter'] = range(len(data))"
   ]
  },
  {
   "cell_type": "code",
   "execution_count": 24,
   "metadata": {},
   "outputs": [],
   "source": [
    "cate_dic_pd = pd.read_pickle('../sampled_data/cate_dic_pd.pkl')\n",
    "cate_dic_pd = cate_dic_pd.rename(columns={'label': 'label_cate'})\n",
    "\n",
    "customer_dic_pd = pd.read_pickle('../sampled_data/customer_dic_pd.pkl')\n",
    "customer_dic_pd = customer_dic_pd.rename(columns={'label': 'label_customer'})"
   ]
  },
  {
   "cell_type": "code",
   "execution_count": 25,
   "metadata": {},
   "outputs": [],
   "source": [
    "data = pd.merge(data, cate_dic_pd, on='counter')\n",
    "data = pd.merge(data, customer_dic_pd, on='counter')"
   ]
  },
  {
   "cell_type": "code",
   "execution_count": 26,
   "metadata": {},
   "outputs": [],
   "source": [
    "pd.to_pickle(data, '../sampled_data/data_mtl_v4_' + str(FRAC) + '.pkl')"
   ]
  },
  {
   "cell_type": "code",
   "execution_count": 27,
   "metadata": {},
   "outputs": [
    {
     "data": {
      "text/plain": [
       "0     5885118\n",
       "1      264033\n",
       "2       38790\n",
       "3       10470\n",
       "4        3340\n",
       "5        1634\n",
       "6         655\n",
       "7         322\n",
       "8         245\n",
       "9         145\n",
       "10         44\n",
       "12         37\n",
       "11         34\n",
       "15         14\n",
       "16         11\n",
       "13          8\n",
       "14          7\n",
       "Name: label_customer, dtype: int64"
      ]
     },
     "execution_count": 27,
     "metadata": {},
     "output_type": "execute_result"
    }
   ],
   "source": [
    "data.label_customer.value_counts()"
   ]
  },
  {
   "cell_type": "code",
   "execution_count": null,
   "metadata": {},
   "outputs": [],
   "source": []
  },
  {
   "cell_type": "code",
   "execution_count": 13,
   "metadata": {},
   "outputs": [
    {
     "data": {
      "image/png": "[encoded data removed]",
      "text/plain": [
       "<Figure size 432x288 with 1 Axes>"
      ]
     },
     "metadata": {
      "needs_background": "light"
     },
     "output_type": "display_data"
    }
   ],
   "source": [
    "plt = data['label_cate'].hist(weights = np.ones_like(data.index) / len(data.index))"
   ]
  },
  {
   "cell_type": "code",
   "execution_count": 31,
   "metadata": {},
   "outputs": [
    {
     "data": {
      "image/png": "[encoded data removed]",
      "text/plain": [
       "<Figure size 432x288 with 1 Axes>"
      ]
     },
     "metadata": {
      "needs_background": "light"
     },
     "output_type": "display_data"
    }
   ],
   "source": [
    "plt.figure() #初始化一张图\n",
    "x = data['label_cate'].values\n",
    "width = 40 #整合成一个参数\n",
    "n, bins, patches = plt.hist(x,bins = width,range=(0,width), weights = np.ones_like(data.index) / len(data.index)) \n",
    "#print(n)\n",
    "#print(bins)\n",
    "#print(patches) \n",
    "plt.grid(alpha=0.5,linestyle='-.') #网格线，更好看 \n",
    "plt.xlabel('Number of Clicks')  \n",
    "plt.ylabel('Percentage')  \n",
    "plt.xticks(np.arange(0,width,2))\n",
    "plt.show()"
   ]
  },
  {
   "cell_type": "code",
   "execution_count": 34,
   "metadata": {},
   "outputs": [
    {
     "data": {
      "image/png": "[encoded data removed]",
      "text/plain": [
       "<Figure size 432x288 with 1 Axes>"
      ]
     },
     "metadata": {
      "needs_background": "light"
     },
     "output_type": "display_data"
    }
   ],
   "source": [
    "plt.figure() #初始化一张图\n",
    "x = data['label_customer'].values\n",
    "width = 16 #整合成一个参数\n",
    "n, bins, patches = plt.hist(x,bins = width,range=(0,width), weights = np.ones_like(data.index) / len(data.index)) \n",
    "#print(n)\n",
    "#print(bins)\n",
    "#print(patches) \n",
    "plt.grid(alpha=0.5,linestyle='-.') #网格线，更好看 \n",
    "plt.xlabel('Number of Clicks')  \n",
    "plt.ylabel('Percentage')  \n",
    "plt.xticks(np.arange(0,width,2))\n",
    "plt.show()"
   ]
  },
  {
   "cell_type": "code",
   "execution_count": 33,
   "metadata": {},
   "outputs": [
    {
     "data": {
      "text/plain": [
       "0     5750772\n",
       "1      348778\n",
       "2       68167\n",
       "3       20852\n",
       "4        7884\n",
       "5        4295\n",
       "6        1669\n",
       "7         799\n",
       "9         598\n",
       "8         593\n",
       "10        136\n",
       "12         99\n",
       "13         95\n",
       "15         68\n",
       "14         49\n",
       "16         41\n",
       "11         12\n",
       "Name: label_customer, dtype: int64"
      ]
     },
     "execution_count": 33,
     "metadata": {},
     "output_type": "execute_result"
    }
   ],
   "source": [
    "data['label_customer'].value_counts()"
   ]
  },
  {
   "cell_type": "code",
   "execution_count": 35,
   "metadata": {},
   "outputs": [
    {
     "data": {
      "text/plain": [
       "0     3799027\n",
       "1     1017088\n",
       "2      459509\n",
       "3      257208\n",
       "4      165243\n",
       "5      109456\n",
       "6       79412\n",
       "7       60629\n",
       "8       45108\n",
       "9       35668\n",
       "10      28727\n",
       "12      18314\n",
       "11      17851\n",
       "13      13233\n",
       "14      12522\n",
       "15      11332\n",
       "16       8036\n",
       "17       7451\n",
       "18       6817\n",
       "19       5418\n",
       "20       5260\n",
       "23       4746\n",
       "25       4025\n",
       "21       3949\n",
       "27       2507\n",
       "26       2459\n",
       "24       2451\n",
       "33       2171\n",
       "22       2154\n",
       "30       2048\n",
       "34       1761\n",
       "35       1432\n",
       "31       1325\n",
       "32       1200\n",
       "48       1165\n",
       "40       1092\n",
       "87       1047\n",
       "58        770\n",
       "36        628\n",
       "29        612\n",
       "49        591\n",
       "54        519\n",
       "46        519\n",
       "75        478\n",
       "57        287\n",
       "70        277\n",
       "41        269\n",
       "55        266\n",
       "28        245\n",
       "39        120\n",
       "47         96\n",
       "86         87\n",
       "74         75\n",
       "69         70\n",
       "56         57\n",
       "53         54\n",
       "45         46\n",
       "Name: label_cate, dtype: int64"
      ]
     },
     "execution_count": 35,
     "metadata": {},
     "output_type": "execute_result"
    }
   ],
   "source": [
    "data['label_cate'].value_counts()"
   ]
  },
  {
   "cell_type": "code",
   "execution_count": 2,
   "metadata": {},
   "outputs": [],
   "source": [
    "data = pd.read_pickle('../sampled_data/data_mtl_v4_' + str(FRAC) + '.pkl')"
   ]
  },
  {
   "cell_type": "code",
   "execution_count": 30,
   "metadata": {},
   "outputs": [
    {
     "name": "stderr",
     "output_type": "stream",
     "text": [
      "pandas bar: 100%|██████████| 6204907/6204907 [00:25<00:00, 242780.33it/s]\n"
     ]
    }
   ],
   "source": [
    "tqdm.pandas(desc='pandas bar')\n",
    "def func1(x, maxD):\n",
    "    while True:\n",
    "        neg = np.random.randint(0, maxD)\n",
    "        if neg != x:\n",
    "            break\n",
    "    return neg\n",
    "cate_max = data['cate_id'].max()\n",
    "data['neg_cate_id'] = data['cate_id'].progress_apply(lambda x: func1(x, cate_max+1))"
   ]
  },
  {
   "cell_type": "code",
   "execution_count": 31,
   "metadata": {},
   "outputs": [
    {
     "name": "stderr",
     "output_type": "stream",
     "text": [
      "pandas bar: 100%|██████████| 6204907/6204907 [00:24<00:00, 254359.46it/s]\n"
     ]
    }
   ],
   "source": [
    "customer_max = data['customer'].max()\n",
    "data['neg_customer'] = data['customer'].progress_apply(lambda x: func1(x, customer_max+1))\n",
    "pd.to_pickle(data, '../sampled_data/data_mtl_v5_' + str(FRAC) + '.pkl')"
   ]
  },
  {
   "cell_type": "code",
   "execution_count": 32,
   "metadata": {},
   "outputs": [
    {
     "name": "stdout",
     "output_type": "stream",
     "text": [
      "5971\n",
      "5971\n",
      "195840\n",
      "195840\n"
     ]
    }
   ],
   "source": [
    "print(data['neg_cate_id'].max())\n",
    "print(data['cate_id'].max())\n",
    "print(data['neg_customer'].max())\n",
    "print(data['customer'].max())"
   ]
  }
 ],
 "metadata": {
  "kernelspec": {
   "display_name": "Python 3",
   "language": "python",
   "name": "python3"
  },
  "language_info": {
   "codemirror_mode": {
    "name": "ipython",
    "version": 3
   },
   "file_extension": ".py",
   "mimetype": "text/x-python",
   "name": "python",
   "nbconvert_exporter": "python",
   "pygments_lexer": "ipython3",
   "version": "3.5.6"
  }
 },
 "nbformat": 4,
 "nbformat_minor": 4
}
